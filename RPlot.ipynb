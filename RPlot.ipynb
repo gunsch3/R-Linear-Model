{
 "cells": [
  {
   "cell_type": "code",
   "execution_count": 13,
   "id": "painted-moisture",
   "metadata": {},
   "outputs": [
    {
     "ename": "ERROR",
     "evalue": "Error in read.table(file = file, header = header, sep = sep, quote = quote, : object 'agrs' not found\n",
     "output_type": "error",
     "traceback": [
      "Error in read.table(file = file, header = header, sep = sep, quote = quote, : object 'agrs' not found\nTraceback:\n",
      "1. read.csv(agrs[1])",
      "2. read.table(file = file, header = header, sep = sep, quote = quote, \n .     dec = dec, fill = fill, comment.char = comment.char, ...)"
     ]
    }
   ],
   "source": [
    "args <- commandArgs(trailingOnly = TRUE)\n",
    "\n",
    "data=read.csv(args[1])\n",
    "\n",
    "plot(x = data$x,y = data$y, xlab = \"x axis\", ylab = \"y axis\", main = \"Plot\")\n",
    "\n",
    "abline(lm(y ~ x, data), col = \"blue\")\n",
    "\n",
    "dev.copy(png,'lm.png')\n",
    "dev.off()"
   ]
  },
  {
   "cell_type": "code",
   "execution_count": null,
   "id": "through-growth",
   "metadata": {},
   "outputs": [],
   "source": []
  }
 ],
 "metadata": {
  "kernelspec": {
   "display_name": "R",
   "language": "R",
   "name": "ir"
  },
  "language_info": {
   "codemirror_mode": "r",
   "file_extension": ".r",
   "mimetype": "text/x-r-source",
   "name": "R",
   "pygments_lexer": "r",
   "version": "4.0.1"
  }
 },
 "nbformat": 4,
 "nbformat_minor": 5
}
